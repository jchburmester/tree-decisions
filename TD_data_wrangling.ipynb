{
  "nbformat": 4,
  "nbformat_minor": 0,
  "metadata": {
    "colab": {
      "provenance": [],
      "authorship_tag": "ABX9TyPhqbiiQdcmDZqe97fhFbI/",
      "include_colab_link": true
    },
    "kernelspec": {
      "name": "python3",
      "display_name": "Python 3"
    },
    "language_info": {
      "name": "python"
    }
  },
  "cells": [
    {
      "cell_type": "markdown",
      "metadata": {
        "id": "view-in-github",
        "colab_type": "text"
      },
      "source": [
        "<a href=\"https://colab.research.google.com/github/jchburmester/tree-decisions/blob/main/TD_data_wrangling.ipynb\" target=\"_parent\"><img src=\"https://colab.research.google.com/assets/colab-badge.svg\" alt=\"Open In Colab\"/></a>"
      ]
    },
    {
      "cell_type": "code",
      "execution_count": null,
      "metadata": {
        "id": "WL6RPlGmqL6Z"
      },
      "outputs": [],
      "source": [
        "import requests\n",
        "import json\n",
        "import os\n",
        "\n",
        "from google.colab import userdata"
      ]
    },
    {
      "cell_type": "code",
      "source": [
        "zenodo_token = userdata.get('ZENODO_TOKEN')\n",
        "#os.environ[\"ZENODO_TOKEN\"] = userdata.get(\"ZENODO_TOKEN\")"
      ],
      "metadata": {
        "id": "RtZUYiLDuNku"
      },
      "execution_count": null,
      "outputs": []
    },
    {
      "cell_type": "code",
      "source": [
        "headers = {\"Authorization\": f\"Bearer {zenodo_token}\"}\n",
        "deposition = requests.post(\n",
        "    \"https://zenodo.org/api/deposit/depositions\",\n",
        "    json={},\n",
        "    headers=headers\n",
        ")\n",
        "print(\"Create deposition status:\", deposition.status_code)\n",
        "dep_json = deposition.json()\n",
        "print(dep_json)\n",
        "\n",
        "deposition_id = dep_json[\"id\"]\n",
        "bucket_url = dep_json[\"links\"][\"bucket\"]\n",
        "\n",
        "# Step 2: Upload a small dummy file (create locally first)\n",
        "filename = \"test_upload.txt\"\n",
        "with open(filename, \"w\") as f:\n",
        "    f.write(\"This is a test upload to Zenodo from Colab.\\n\")\n",
        "\n",
        "# Upload file to the bucket\n",
        "with open(filename, \"rb\") as fp:\n",
        "    upload = requests.put(\n",
        "        f\"{bucket_url}/{filename}\",\n",
        "        data=fp,\n",
        "        headers=headers\n",
        "    )\n",
        "print(\"File upload status:\", upload.status_code)\n",
        "print(upload.json())\n",
        "\n",
        "# Step 3: Optionally, add some metadata (title etc.)\n",
        "metadata = {\n",
        "    \"metadata\": {\n",
        "        \"title\": \"Test Upload from API\",\n",
        "        \"upload_type\": \"dataset\",\n",
        "        \"description\": \"A simple test upload using Zenodo API.\",\n",
        "        \"creators\": [{\"name\": \"Your Name\"}]\n",
        "    }\n",
        "}\n",
        "update = requests.put(\n",
        "    f\"https://zenodo.org/api/deposit/depositions/{deposition_id}\",\n",
        "    json=metadata,\n",
        "    headers={**headers, \"Content-Type\": \"application/json\"},\n",
        ")\n",
        "print(\"Metadata update status:\", update.status_code)\n",
        "print(update.json())\n",
        "\n",
        "# Step 4: Optionally, publish the deposition (makes it public)\n",
        "publish = requests.post(\n",
        "    f\"https://zenodo.org/api/deposit/depositions/{deposition_id}/actions/publish\",\n",
        "    headers=headers\n",
        ")\n",
        "print(\"Publish status:\", publish.status_code)\n",
        "print(publish.json())"
      ],
      "metadata": {
        "colab": {
          "base_uri": "https://localhost:8080/"
        },
        "id": "-fdkEFk6y0C2",
        "outputId": "f88fe3f2-7bd5-4b73-ea73-3c4050847e38"
      },
      "execution_count": null,
      "outputs": [
        {
          "output_type": "stream",
          "name": "stdout",
          "text": [
            "Create deposition status: 201\n",
            "{'created': '2025-09-02T09:39:15.901052+00:00', 'modified': '2025-09-02T09:39:17.279313+00:00', 'id': 17035705, 'conceptrecid': '17035704', 'metadata': {'access_right': 'open', 'prereserve_doi': {'doi': '10.5281/zenodo.17035705', 'recid': 17035705}}, 'title': '', 'links': {'self': 'https://zenodo.org/api/deposit/depositions/17035705', 'html': 'https://zenodo.org/deposit/17035705', 'badge': 'https://zenodo.org/badge/doi/.svg', 'files': 'https://zenodo.org/api/deposit/depositions/17035705/files', 'bucket': 'https://zenodo.org/api/files/7b1c7777-be28-4426-b1cf-cb8088970434', 'latest_draft': 'https://zenodo.org/api/deposit/depositions/17035705', 'latest_draft_html': 'https://zenodo.org/deposit/17035705', 'publish': 'https://zenodo.org/api/deposit/depositions/17035705/actions/publish', 'edit': 'https://zenodo.org/api/deposit/depositions/17035705/actions/edit', 'discard': 'https://zenodo.org/api/deposit/depositions/17035705/actions/discard', 'newversion': 'https://zenodo.org/api/deposit/depositions/17035705/actions/newversion'}, 'record_id': 17035705, 'owner': 1400063, 'files': [], 'state': 'unsubmitted', 'submitted': False}\n",
            "File upload status: 201\n",
            "{'created': '2025-09-02T09:39:24.438034+00:00', 'updated': '2025-09-02T09:39:25.756567+00:00', 'version_id': '4e16473e-c73e-4d2f-a1bf-bf2585b1ebe6', 'key': 'test_upload.txt', 'size': 44, 'mimetype': 'text/plain', 'checksum': 'md5:b4e2addbaf708769a19534119b7c63e5', 'is_head': True, 'delete_marker': False, 'links': {'self': 'https://zenodo.org/api/files/7b1c7777-be28-4426-b1cf-cb8088970434/test_upload.txt', 'version': 'https://zenodo.org/api/files/7b1c7777-be28-4426-b1cf-cb8088970434/test_upload.txt?version_id=4e16473e-c73e-4d2f-a1bf-bf2585b1ebe6', 'uploads': 'https://zenodo.org/api/files/7b1c7777-be28-4426-b1cf-cb8088970434/test_upload.txt?uploads=1'}}\n",
            "Metadata update status: 200\n",
            "{'created': '2025-09-02T09:39:15.901052+00:00', 'modified': '2025-09-02T09:39:31.774080+00:00', 'id': 17035705, 'conceptrecid': '17035704', 'metadata': {'title': 'Test Upload from API', 'publication_date': '2025-09-02', 'description': 'A simple test upload using Zenodo API.', 'access_right': 'open', 'creators': [{'name': 'Your Name', 'affiliation': None}], 'license': 'cc-zero', 'imprint_publisher': 'Zenodo', 'upload_type': 'dataset', 'prereserve_doi': {'doi': '10.5281/zenodo.17035705', 'recid': 17035705}}, 'title': 'Test Upload from API', 'links': {'self': 'https://zenodo.org/api/deposit/depositions/17035705', 'html': 'https://zenodo.org/deposit/17035705', 'badge': 'https://zenodo.org/badge/doi/.svg', 'files': 'https://zenodo.org/api/deposit/depositions/17035705/files', 'bucket': 'https://zenodo.org/api/files/7b1c7777-be28-4426-b1cf-cb8088970434', 'latest_draft': 'https://zenodo.org/api/deposit/depositions/17035705', 'latest_draft_html': 'https://zenodo.org/deposit/17035705', 'publish': 'https://zenodo.org/api/deposit/depositions/17035705/actions/publish', 'edit': 'https://zenodo.org/api/deposit/depositions/17035705/actions/edit', 'discard': 'https://zenodo.org/api/deposit/depositions/17035705/actions/discard', 'newversion': 'https://zenodo.org/api/deposit/depositions/17035705/actions/newversion'}, 'record_id': 17035705, 'owner': 1400063, 'files': [{'id': 'ebab848c-3aaf-45da-b6c4-bd33228987b0', 'filename': 'test_upload.txt', 'filesize': 44, 'checksum': 'b4e2addbaf708769a19534119b7c63e5', 'links': {'self': 'https://zenodo.org/api/deposit/depositions/17035705/files/ebab848c-3aaf-45da-b6c4-bd33228987b0', 'download': 'https://zenodo.org/api/records/17035705/draft/files/test_upload.txt/content'}}], 'state': 'unsubmitted', 'submitted': False}\n",
            "Publish status: 202\n",
            "{'created': '2025-09-02T09:39:40.224221+00:00', 'modified': '2025-09-02T09:39:42.932354+00:00', 'id': 17035705, 'conceptrecid': '17035704', 'doi': '10.5281/zenodo.17035705', 'conceptdoi': '10.5281/zenodo.17035704', 'doi_url': 'https://doi.org/10.5281/zenodo.17035705', 'metadata': {'title': 'Test Upload from API', 'doi': '10.5281/zenodo.17035705', 'publication_date': '2025-09-02', 'description': 'A simple test upload using Zenodo API.', 'access_right': 'open', 'creators': [{'name': 'Your Name', 'affiliation': None}], 'license': 'cc-zero', 'imprint_publisher': 'Zenodo', 'upload_type': 'dataset', 'prereserve_doi': {'doi': '10.5281/zenodo.17035705', 'recid': 17035705}}, 'title': 'Test Upload from API', 'links': {'self': 'https://zenodo.org/api/records/17035705', 'html': 'https://zenodo.org/records/17035705', 'doi': 'https://doi.org/10.5281/zenodo.17035705', 'parent_doi': 'https://doi.org/10.5281/zenodo.17035704', 'badge': 'https://zenodo.org/badge/doi/10.5281%2Fzenodo.17035705.svg', 'conceptbadge': 'https://zenodo.org/badge/doi/10.5281%2Fzenodo.17035704.svg', 'files': 'https://zenodo.org/api/records/17035705/files', 'bucket': 'https://zenodo.org/api/files/7b1c7777-be28-4426-b1cf-cb8088970434', 'latest_draft': 'https://zenodo.org/api/deposit/depositions/17035705', 'latest_draft_html': 'https://zenodo.org/deposit/17035705', 'publish': 'https://zenodo.org/api/deposit/depositions/17035705/actions/publish', 'edit': 'https://zenodo.org/api/deposit/depositions/17035705/actions/edit', 'discard': 'https://zenodo.org/api/deposit/depositions/17035705/actions/discard', 'newversion': 'https://zenodo.org/api/deposit/depositions/17035705/actions/newversion', 'record': 'https://zenodo.org/api/records/17035705', 'record_html': 'https://zenodo.org/record/17035705', 'latest': 'https://zenodo.org/api/records/17035705/versions/latest', 'latest_html': 'https://zenodo.org/records/17035705/latest'}, 'record_id': 17035705, 'owner': 1400063, 'files': [{'id': 'ebab848c-3aaf-45da-b6c4-bd33228987b0', 'filename': 'test_upload.txt', 'filesize': 44, 'checksum': 'b4e2addbaf708769a19534119b7c63e5', 'links': {'self': 'https://zenodo.org/api/records/17035705/files/ebab848c-3aaf-45da-b6c4-bd33228987b0', 'download': 'https://zenodo.org/api/records/17035705/draft/files/test_upload.txt/content'}}], 'state': 'done', 'submitted': True}\n"
          ]
        }
      ]
    }
  ]
}