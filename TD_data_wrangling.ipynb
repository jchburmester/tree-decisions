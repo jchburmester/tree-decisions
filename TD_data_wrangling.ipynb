{
  "nbformat": 4,
  "nbformat_minor": 0,
  "metadata": {
    "colab": {
      "provenance": [],
      "collapsed_sections": [
        "GTyztZKvDoEl"
      ],
      "authorship_tag": "ABX9TyPNBe8Txi8A4qx71VhXjnbJ",
      "include_colab_link": true
    },
    "kernelspec": {
      "name": "python3",
      "display_name": "Python 3"
    },
    "language_info": {
      "name": "python"
    }
  },
  "cells": [
    {
      "cell_type": "markdown",
      "metadata": {
        "id": "view-in-github",
        "colab_type": "text"
      },
      "source": [
        "<a href=\"https://colab.research.google.com/github/jchburmester/tree-decisions/blob/main/TD_data_wrangling.ipynb\" target=\"_parent\"><img src=\"https://colab.research.google.com/assets/colab-badge.svg\" alt=\"Open In Colab\"/></a>"
      ]
    },
    {
      "cell_type": "markdown",
      "source": [
        "# Data Wrangling for a Modeling Research Project"
      ],
      "metadata": {
        "id": "atZwATQzzdt4"
      }
    },
    {
      "cell_type": "markdown",
      "source": [
        "This is a Python Notebook to host a (prototype) modeling framework for tree growth and carbon deposition in wood, with a focus on tree-ring increments and small-scale processes.\n",
        "- An updated version of this notebook will be stored in the Github Repository: https://github.com/jchburmester/tree-decisions\n",
        "- Later on, the actual data used in this project will be stored in Zenodo: https://zenodo.org/me/uploads?q=&f=shared_with_me%3Afalse&l=list&p=1&s=10&sort=newest.\n",
        "The datasets will be directly accessed from this notebook.\n",
        "- The notebook will serve as a script to load, preprocess, and align the data as the initial step. This will be followed by data analysis. Finally, based on the analysis results, a prototype sub-model for vegetation will be developed, ideally integrated into LPJ-GUESS."
      ],
      "metadata": {
        "id": "E6BoGGn2zl_h"
      }
    },
    {
      "cell_type": "markdown",
      "source": [
        "##### **FAIR** Data Principles\n",
        "This notebook adheres to the FAIR principles by ensuring all data and materials are findable through clear metadata and persistent identifiers, and accessible via Zenodo. Interoperability is supported by using widely accepted data and code formats such as CSV, NumPy, and Pandas. Reusability is promoted through comprehensive documentation within this notebook and the accompanying README file on GitHub, which also includes licensing information. Additionally, the notebook and related resources will be openly shared and updated on the public GitHub repository and Zenodo, facilitating transparency and reproducibility."
      ],
      "metadata": {
        "id": "TTyNFMBq6-2k"
      }
    },
    {
      "cell_type": "markdown",
      "source": [
        "##### Imports\n",
        "So far, only standard packages will be used. Version control and dependency pinning will be determined based on the specific methods employed later in the analysis and model development, such as Machine Learning (ML) techniques. Any updates will be documented and pushed to an environment file within the GitHub repository. Specific versions can be installed using `!pip install`."
      ],
      "metadata": {
        "id": "GDOPbWzvDrmC"
      }
    },
    {
      "cell_type": "code",
      "execution_count": 3,
      "metadata": {
        "id": "WL6RPlGmqL6Z"
      },
      "outputs": [],
      "source": [
        "# Packages to connect to Zenodo and load/request data.\n",
        "import requests\n",
        "import json\n",
        "import os\n",
        "\n",
        "# To analyse and store data.\n",
        "import pandas as pd\n",
        "import numpy as np\n",
        "\n",
        "# To store private access token for Zenodo.\n",
        "from google.colab import userdata\n",
        "\n",
        "# For direct access to Zenodo.\n",
        "zenodo_token = userdata.get('ZENODO_TOKEN')"
      ]
    },
    {
      "cell_type": "markdown",
      "source": [
        "##### To test direct access to Zenodo"
      ],
      "metadata": {
        "id": "GTyztZKvDoEl"
      }
    },
    {
      "cell_type": "code",
      "source": [
        "# Specifying and requesting access.\n",
        "headers = {\"Authorization\": f\"Bearer {zenodo_token}\"}\n",
        "deposition = requests.post(\n",
        "    \"https://zenodo.org/api/deposit/depositions\",\n",
        "    json={},\n",
        "    headers=headers\n",
        ")\n",
        "print(\"Create deposition status:\", deposition.status_code)\n",
        "dep_json = deposition.json()\n",
        "print(dep_json)\n",
        "\n",
        "deposition_id = dep_json[\"id\"]\n",
        "bucket_url = dep_json[\"links\"][\"bucket\"]\n",
        "\n",
        "# Uploading a small dummy file (create locally first).\n",
        "filename = \"test_upload.txt\"\n",
        "with open(filename, \"w\") as f:\n",
        "    f.write(\"This is a test upload to Zenodo from Colab.\\n\")\n",
        "\n",
        "# Uploading file to the bucket.\n",
        "with open(filename, \"rb\") as fp:\n",
        "    upload = requests.put(\n",
        "        f\"{bucket_url}/{filename}\",\n",
        "        data=fp,\n",
        "        headers=headers\n",
        "    )\n",
        "print(\"File upload status:\", upload.status_code)\n",
        "print(upload.json())\n",
        "\n",
        "# Adding some metadata.\n",
        "metadata = {\n",
        "    \"metadata\": {\n",
        "        \"title\": \"Test Upload from API\",\n",
        "        \"upload_type\": \"dataset\",\n",
        "        \"description\": \"A simple test upload using Zenodo API.\",\n",
        "        \"creators\": [{\"name\": \"Your Name\"}]\n",
        "    }\n",
        "}\n",
        "update = requests.put(\n",
        "    f\"https://zenodo.org/api/deposit/depositions/{deposition_id}\",\n",
        "    json=metadata,\n",
        "    headers={**headers, \"Content-Type\": \"application/json\"},\n",
        ")\n",
        "print(\"Metadata update status:\", update.status_code)\n",
        "print(update.json())\n",
        "\n",
        "# Publishing the deposition (test).\n",
        "publish = requests.post(\n",
        "    f\"https://zenodo.org/api/deposit/depositions/{deposition_id}/actions/publish\",\n",
        "    headers=headers\n",
        ")\n",
        "print(\"Publish status:\", publish.status_code)\n",
        "print(publish.json())"
      ],
      "metadata": {
        "colab": {
          "base_uri": "https://localhost:8080/"
        },
        "id": "-fdkEFk6y0C2",
        "outputId": "f88fe3f2-7bd5-4b73-ea73-3c4050847e38"
      },
      "execution_count": null,
      "outputs": [
        {
          "output_type": "stream",
          "name": "stdout",
          "text": [
            "Create deposition status: 201\n",
            "{'created': '2025-09-02T09:39:15.901052+00:00', 'modified': '2025-09-02T09:39:17.279313+00:00', 'id': 17035705, 'conceptrecid': '17035704', 'metadata': {'access_right': 'open', 'prereserve_doi': {'doi': '10.5281/zenodo.17035705', 'recid': 17035705}}, 'title': '', 'links': {'self': 'https://zenodo.org/api/deposit/depositions/17035705', 'html': 'https://zenodo.org/deposit/17035705', 'badge': 'https://zenodo.org/badge/doi/.svg', 'files': 'https://zenodo.org/api/deposit/depositions/17035705/files', 'bucket': 'https://zenodo.org/api/files/7b1c7777-be28-4426-b1cf-cb8088970434', 'latest_draft': 'https://zenodo.org/api/deposit/depositions/17035705', 'latest_draft_html': 'https://zenodo.org/deposit/17035705', 'publish': 'https://zenodo.org/api/deposit/depositions/17035705/actions/publish', 'edit': 'https://zenodo.org/api/deposit/depositions/17035705/actions/edit', 'discard': 'https://zenodo.org/api/deposit/depositions/17035705/actions/discard', 'newversion': 'https://zenodo.org/api/deposit/depositions/17035705/actions/newversion'}, 'record_id': 17035705, 'owner': 1400063, 'files': [], 'state': 'unsubmitted', 'submitted': False}\n",
            "File upload status: 201\n",
            "{'created': '2025-09-02T09:39:24.438034+00:00', 'updated': '2025-09-02T09:39:25.756567+00:00', 'version_id': '4e16473e-c73e-4d2f-a1bf-bf2585b1ebe6', 'key': 'test_upload.txt', 'size': 44, 'mimetype': 'text/plain', 'checksum': 'md5:b4e2addbaf708769a19534119b7c63e5', 'is_head': True, 'delete_marker': False, 'links': {'self': 'https://zenodo.org/api/files/7b1c7777-be28-4426-b1cf-cb8088970434/test_upload.txt', 'version': 'https://zenodo.org/api/files/7b1c7777-be28-4426-b1cf-cb8088970434/test_upload.txt?version_id=4e16473e-c73e-4d2f-a1bf-bf2585b1ebe6', 'uploads': 'https://zenodo.org/api/files/7b1c7777-be28-4426-b1cf-cb8088970434/test_upload.txt?uploads=1'}}\n",
            "Metadata update status: 200\n",
            "{'created': '2025-09-02T09:39:15.901052+00:00', 'modified': '2025-09-02T09:39:31.774080+00:00', 'id': 17035705, 'conceptrecid': '17035704', 'metadata': {'title': 'Test Upload from API', 'publication_date': '2025-09-02', 'description': 'A simple test upload using Zenodo API.', 'access_right': 'open', 'creators': [{'name': 'Your Name', 'affiliation': None}], 'license': 'cc-zero', 'imprint_publisher': 'Zenodo', 'upload_type': 'dataset', 'prereserve_doi': {'doi': '10.5281/zenodo.17035705', 'recid': 17035705}}, 'title': 'Test Upload from API', 'links': {'self': 'https://zenodo.org/api/deposit/depositions/17035705', 'html': 'https://zenodo.org/deposit/17035705', 'badge': 'https://zenodo.org/badge/doi/.svg', 'files': 'https://zenodo.org/api/deposit/depositions/17035705/files', 'bucket': 'https://zenodo.org/api/files/7b1c7777-be28-4426-b1cf-cb8088970434', 'latest_draft': 'https://zenodo.org/api/deposit/depositions/17035705', 'latest_draft_html': 'https://zenodo.org/deposit/17035705', 'publish': 'https://zenodo.org/api/deposit/depositions/17035705/actions/publish', 'edit': 'https://zenodo.org/api/deposit/depositions/17035705/actions/edit', 'discard': 'https://zenodo.org/api/deposit/depositions/17035705/actions/discard', 'newversion': 'https://zenodo.org/api/deposit/depositions/17035705/actions/newversion'}, 'record_id': 17035705, 'owner': 1400063, 'files': [{'id': 'ebab848c-3aaf-45da-b6c4-bd33228987b0', 'filename': 'test_upload.txt', 'filesize': 44, 'checksum': 'b4e2addbaf708769a19534119b7c63e5', 'links': {'self': 'https://zenodo.org/api/deposit/depositions/17035705/files/ebab848c-3aaf-45da-b6c4-bd33228987b0', 'download': 'https://zenodo.org/api/records/17035705/draft/files/test_upload.txt/content'}}], 'state': 'unsubmitted', 'submitted': False}\n",
            "Publish status: 202\n",
            "{'created': '2025-09-02T09:39:40.224221+00:00', 'modified': '2025-09-02T09:39:42.932354+00:00', 'id': 17035705, 'conceptrecid': '17035704', 'doi': '10.5281/zenodo.17035705', 'conceptdoi': '10.5281/zenodo.17035704', 'doi_url': 'https://doi.org/10.5281/zenodo.17035705', 'metadata': {'title': 'Test Upload from API', 'doi': '10.5281/zenodo.17035705', 'publication_date': '2025-09-02', 'description': 'A simple test upload using Zenodo API.', 'access_right': 'open', 'creators': [{'name': 'Your Name', 'affiliation': None}], 'license': 'cc-zero', 'imprint_publisher': 'Zenodo', 'upload_type': 'dataset', 'prereserve_doi': {'doi': '10.5281/zenodo.17035705', 'recid': 17035705}}, 'title': 'Test Upload from API', 'links': {'self': 'https://zenodo.org/api/records/17035705', 'html': 'https://zenodo.org/records/17035705', 'doi': 'https://doi.org/10.5281/zenodo.17035705', 'parent_doi': 'https://doi.org/10.5281/zenodo.17035704', 'badge': 'https://zenodo.org/badge/doi/10.5281%2Fzenodo.17035705.svg', 'conceptbadge': 'https://zenodo.org/badge/doi/10.5281%2Fzenodo.17035704.svg', 'files': 'https://zenodo.org/api/records/17035705/files', 'bucket': 'https://zenodo.org/api/files/7b1c7777-be28-4426-b1cf-cb8088970434', 'latest_draft': 'https://zenodo.org/api/deposit/depositions/17035705', 'latest_draft_html': 'https://zenodo.org/deposit/17035705', 'publish': 'https://zenodo.org/api/deposit/depositions/17035705/actions/publish', 'edit': 'https://zenodo.org/api/deposit/depositions/17035705/actions/edit', 'discard': 'https://zenodo.org/api/deposit/depositions/17035705/actions/discard', 'newversion': 'https://zenodo.org/api/deposit/depositions/17035705/actions/newversion', 'record': 'https://zenodo.org/api/records/17035705', 'record_html': 'https://zenodo.org/record/17035705', 'latest': 'https://zenodo.org/api/records/17035705/versions/latest', 'latest_html': 'https://zenodo.org/records/17035705/latest'}, 'record_id': 17035705, 'owner': 1400063, 'files': [{'id': 'ebab848c-3aaf-45da-b6c4-bd33228987b0', 'filename': 'test_upload.txt', 'filesize': 44, 'checksum': 'b4e2addbaf708769a19534119b7c63e5', 'links': {'self': 'https://zenodo.org/api/records/17035705/files/ebab848c-3aaf-45da-b6c4-bd33228987b0', 'download': 'https://zenodo.org/api/records/17035705/draft/files/test_upload.txt/content'}}], 'state': 'done', 'submitted': True}\n"
          ]
        }
      ]
    },
    {
      "cell_type": "markdown",
      "source": [
        "#### Data Loading (from Github Repository for now, later Zenobo)\n",
        "For now and as a test, data will be loaded as CSV files. Later, data from multiple sources and formats will be aligned and standardised into Pandas DataFrames, NumPy arrays, or PyTorch tensors, depending on the requirements of downstream tasks."
      ],
      "metadata": {
        "id": "NHtXjcAeDydR"
      }
    },
    {
      "cell_type": "code",
      "source": [
        "# Load and store data.\n",
        "csv_url = 'https://raw.githubusercontent.com/jchburmester/tree-decisions/refs/heads/main/data/TD_test_file.csv'\n",
        "df_test = pd.read_csv(csv_url)"
      ],
      "metadata": {
        "id": "ApAzbb1FD2Jl"
      },
      "execution_count": 4,
      "outputs": []
    },
    {
      "cell_type": "code",
      "source": [
        "# Show dataframe.\n",
        "df_test.head()"
      ],
      "metadata": {
        "id": "RxoN_GkuEAwA"
      },
      "execution_count": 5,
      "outputs": []
    },
    {
      "cell_type": "markdown",
      "source": [
        "#### Pre-processing Pipeline\n",
        "Here, I perform preprocessing steps on the input data, including the removal of outliers to ensure data quality, gap filling and interpolation using ML-based methods to handle missing values, and formatting to unify data structure and consistency. These steps prepare the dataset for subsequent analysis by making it clean, complete, and standardised."
      ],
      "metadata": {
        "id": "BzDZ9JI6zxcA"
      }
    },
    {
      "cell_type": "code",
      "source": [
        "# Here will be code."
      ],
      "metadata": {
        "id": "fMxecQja5LEQ"
      },
      "execution_count": null,
      "outputs": []
    },
    {
      "cell_type": "markdown",
      "source": [
        "#### Data Visualisation & Analysis\n",
        "Data visualisation will help to show general patterns and anomalies within the dataset. We will then conduct regression and correlation analyses to examine relationships. Finally, statistical and ML approaches will be used to identify more complex and less obvious trends, to improve our understanding of carbon storage processes in wood biomass."
      ],
      "metadata": {
        "id": "3sOC7q1Jz0SL"
      }
    },
    {
      "cell_type": "code",
      "source": [
        "#  Here will be code."
      ],
      "metadata": {
        "id": "m6afWvA75Ne9"
      },
      "execution_count": null,
      "outputs": []
    },
    {
      "cell_type": "markdown",
      "source": [
        "#### Sub-Model Prototype\n",
        "Based on insights from the data analysis, process equations will be implemented to represent the system's carbon dynamics. The model will undergo calibration, validation, and uncertainty analysis to ensure robustness. Finally, the calibrated sub-model will be integrated into the existing head-model framework for a more complete ecosystem simulation."
      ],
      "metadata": {
        "id": "8i7H0frZ0SCZ"
      }
    },
    {
      "cell_type": "code",
      "source": [
        "# Here will be code."
      ],
      "metadata": {
        "id": "kT9N7JoT5fJD"
      },
      "execution_count": null,
      "outputs": []
    }
  ]
}